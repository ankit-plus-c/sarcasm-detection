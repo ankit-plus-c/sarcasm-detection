{
 "cells": [
  {
   "cell_type": "markdown",
   "metadata": {},
   "source": [
    ":(\n",
    "1. SW (PW - NW) disjoint\n",
    "2. 30% masking\n",
    "3. Implement LDA\n",
    "4. Parse Tree"
   ]
  }
 ],
 "metadata": {
  "language_info": {
   "name": "python"
  },
  "orig_nbformat": 4
 },
 "nbformat": 4,
 "nbformat_minor": 2
}
