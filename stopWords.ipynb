{
 "cells": [
  {
   "cell_type": "code",
   "execution_count": 8,
   "metadata": {},
   "outputs": [],
   "source": [
    "import nltk\n",
    "from nltk.corpus import stopwords\n",
    "from nltk.tokenize import word_tokenize"
   ]
  },
  {
   "cell_type": "code",
   "execution_count": 9,
   "metadata": {},
   "outputs": [
    {
     "name": "stdout",
     "output_type": "stream",
     "text": [
      "{'with', 'through', 'couldn', 'were', 'themselves', 'here', 'each', 'now', 'does', 'where', 'all', 'from', 'your', 'weren', \"shouldn't\", 'it', 'was', 've', 'above', 'below', 'nor', 'at', 'into', 'am', 'down', \"hadn't\", 'those', 'mustn', 'them', 'don', 'him', 'theirs', 'there', \"doesn't\", 'by', \"won't\", 'this', \"aren't\", 'few', 'on', \"you're\", 'or', 'won', 'mightn', \"haven't\", 'off', 'against', 'did', 'he', 'yours', 'its', 'to', 'further', \"wouldn't\", 'what', 'not', 'most', 'no', \"that'll\", \"isn't\", 'just', 'are', 'other', 'himself', 'whom', 'only', 'so', 'any', 'a', 'both', 'about', 'but', 'under', 'why', \"don't\", 'didn', 'isn', 'his', \"mustn't\", 'these', 'having', \"wasn't\", 'needn', 'of', 'the', 'very', 'been', 'our', 'how', 'have', \"weren't\", 'her', 'for', 'out', 'doesn', 'shan', 'itself', 'then', 'once', 'they', 'haven', 'too', 'd', 'more', 'when', 'hers', \"hasn't\", 'ourselves', 'same', 'is', \"should've\", 'and', 'will', 'myself', 'their', 'until', 'shouldn', 'before', 'o', 'herself', 'be', 'should', \"you've\", 'that', 'than', 'yourselves', 'y', 'because', 'who', 're', \"mightn't\", \"couldn't\", 'she', 'had', \"you'll\", 'during', 'hadn', 'up', 'over', 'you', 'as', 'll', 'aren', 'hasn', 'we', 't', 'ain', 'being', 'while', 'such', 'if', 's', 'ours', \"it's\", 'wouldn', 'me', 'which', 'after', 'has', \"needn't\", \"didn't\", 'wasn', 'between', 'do', 'can', 'i', 'm', 'doing', 'again', 'some', \"you'd\", 'own', 'yourself', 'my', \"she's\", 'ma', \"shan't\", 'in', 'an'}\n"
     ]
    }
   ],
   "source": [
    "stop_words = set(stopwords.words(\"english\"))\n",
    "print(stop_words)"
   ]
  },
  {
   "cell_type": "code",
   "execution_count": 10,
   "metadata": {},
   "outputs": [],
   "source": [
    "s = \"This is an example showing off stop word tokenization.\"\n",
    "words = word_tokenize(s)"
   ]
  },
  {
   "cell_type": "code",
   "execution_count": 13,
   "metadata": {},
   "outputs": [
    {
     "data": {
      "text/plain": [
       "['This', 'example', 'showing', 'stop', 'word', 'tokenization', '.']"
      ]
     },
     "execution_count": 13,
     "metadata": {},
     "output_type": "execute_result"
    }
   ],
   "source": [
    "filtered_sentence = []\n",
    "\n",
    "for w in words:\n",
    "    if w not in stop_words:\n",
    "        filtered_sentence.append(w)\n",
    "\n",
    "filtered_sentence"
   ]
  }
 ],
 "metadata": {
  "kernelspec": {
   "display_name": "Python 3",
   "language": "python",
   "name": "python3"
  },
  "language_info": {
   "codemirror_mode": {
    "name": "ipython",
    "version": 3
   },
   "file_extension": ".py",
   "mimetype": "text/x-python",
   "name": "python",
   "nbconvert_exporter": "python",
   "pygments_lexer": "ipython3",
   "version": "3.11.1"
  },
  "orig_nbformat": 4
 },
 "nbformat": 4,
 "nbformat_minor": 2
}
